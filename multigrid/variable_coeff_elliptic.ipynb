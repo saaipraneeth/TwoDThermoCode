{
 "cells": [
  {
   "cell_type": "markdown",
   "metadata": {},
   "source": [
    "# Variable Coefficient Poisson"
   ]
  },
  {
   "cell_type": "markdown",
   "metadata": {},
   "source": [
    "Derive the form of a test variable-coefficient elliptic equation with periodic boundary conditions for testing the variable-coefficient multigrid solver.\n",
    "\n",
    "We want to solve an equation of the form $\\nabla \\cdot (\\alpha \\nabla \\phi) = f$\n",
    "\n",
    "Note: it is important for solvability that the RHS, f, integrate to zero over our domain.  It seems sufficient to ensure that phi integrates to zero to have this condition met."
   ]
  },
  {
   "cell_type": "code",
   "execution_count": 1,
   "metadata": {
    "collapsed": false
   },
   "outputs": [
    {
     "name": "stdout",
     "output_type": "stream",
     "text": [
      "Populating the interactive namespace from numpy and matplotlib\n"
     ]
    }
   ],
   "source": [
    "%pylab inline"
   ]
  },
  {
   "cell_type": "code",
   "execution_count": 2,
   "metadata": {
    "collapsed": false
   },
   "outputs": [
    {
     "name": "stdout",
     "output_type": "stream",
     "text": [
      "IPython console for SymPy 1.0 (Python 2.7.12-64-bit) (ground types: gmpy)\n",
      "\n",
      "These commands were executed:\n",
      ">>> from __future__ import division\n",
      ">>> from sympy import *\n",
      ">>> x, y, z, t = symbols('x y z t')\n",
      ">>> k, m, n = symbols('k m n', integer=True)\n",
      ">>> f, g, h = symbols('f g h', cls=Function)\n",
      ">>> init_printing()\n",
      "\n",
      "Documentation can be found at http://docs.sympy.org/1.0/\n"
     ]
    }
   ],
   "source": [
    "from sympy import init_session\n",
    "init_session()"
   ]
  },
  {
   "cell_type": "raw",
   "metadata": {},
   "source": [
    "Variable coefficient elliptic problem, using periodic boundary conditions all around."
   ]
  },
  {
   "cell_type": "code",
   "execution_count": 3,
   "metadata": {
    "collapsed": false
   },
   "outputs": [],
   "source": [
    "alpha = 2.0 + cos(2*pi*x)*cos(2*pi*y)"
   ]
  },
  {
   "cell_type": "code",
   "execution_count": 4,
   "metadata": {
    "collapsed": false
   },
   "outputs": [],
   "source": [
    "phi = sin(2*pi*x)*sin(2*pi*y)"
   ]
  },
  {
   "cell_type": "markdown",
   "metadata": {},
   "source": [
    "we want to compute $\\nabla \\cdot (\\alpha \\nabla \\phi)$"
   ]
  },
  {
   "cell_type": "code",
   "execution_count": 5,
   "metadata": {
    "collapsed": false
   },
   "outputs": [],
   "source": [
    "phi_x = diff(phi, x)\n",
    "phi_y = diff(phi, y)"
   ]
  },
  {
   "cell_type": "code",
   "execution_count": 6,
   "metadata": {
    "collapsed": false
   },
   "outputs": [],
   "source": [
    "f = diff(alpha*phi_x, x) + diff(alpha*phi_y, y)"
   ]
  },
  {
   "cell_type": "code",
   "execution_count": 7,
   "metadata": {
    "collapsed": false
   },
   "outputs": [
    {
     "data": {
      "image/png": "[encoded data removed]",
      "text/latex": [
       "$$- 16.0 \\pi^{2} \\left(\\cos{\\left (2 \\pi x \\right )} \\cos{\\left (2 \\pi y \\right )} + 1\\right) \\sin{\\left (2 \\pi x \\right )} \\sin{\\left (2 \\pi y \\right )}$$"
      ],
      "text/plain": [
       "       2                                                  \n",
       "-16.0⋅π ⋅(cos(2⋅π⋅x)⋅cos(2⋅π⋅y) + 1)⋅sin(2⋅π⋅x)⋅sin(2⋅π⋅y)"
      ]
     },
     "execution_count": 7,
     "metadata": {},
     "output_type": "execute_result"
    }
   ],
   "source": [
    "f = simplify(f)\n",
    "f"
   ]
  },
  {
   "cell_type": "code",
   "execution_count": 8,
   "metadata": {
    "collapsed": false
   },
   "outputs": [
    {
     "name": "stdout",
     "output_type": "stream",
     "text": [
      "-16.0*pi**2*(cos(2*pi*x)*cos(2*pi*y) + 1)*sin(2*pi*x)*sin(2*pi*y)\n"
     ]
    }
   ],
   "source": [
    "print(f)"
   ]
  },
  {
   "cell_type": "raw",
   "metadata": {},
   "source": [
    "boundary conditions check"
   ]
  },
  {
   "cell_type": "code",
   "execution_count": 9,
   "metadata": {
    "collapsed": false
   },
   "outputs": [
    {
     "data": {
      "image/png": "[encoded data removed]",
      "text/latex": [
       "$$0$$"
      ],
      "text/plain": [
       "0"
      ]
     },
     "execution_count": 9,
     "metadata": {},
     "output_type": "execute_result"
    }
   ],
   "source": [
    "phi.subs(x, 0)"
   ]
  },
  {
   "cell_type": "code",
   "execution_count": 10,
   "metadata": {
    "collapsed": false
   },
   "outputs": [
    {
     "data": {
      "image/png": "[encoded data removed]",
      "text/latex": [
       "$$0$$"
      ],
      "text/plain": [
       "0"
      ]
     },
     "execution_count": 10,
     "metadata": {},
     "output_type": "execute_result"
    }
   ],
   "source": [
    "phi.subs(x, 1)"
   ]
  },
  {
   "cell_type": "code",
   "execution_count": 11,
   "metadata": {
    "collapsed": false
   },
   "outputs": [
    {
     "data": {
      "image/png": "[encoded data removed]",
      "text/latex": [
       "$$0$$"
      ],
      "text/plain": [
       "0"
      ]
     },
     "execution_count": 11,
     "metadata": {},
     "output_type": "execute_result"
    }
   ],
   "source": [
    "phi.subs(y, 0)"
   ]
  },
  {
   "cell_type": "code",
   "execution_count": 12,
   "metadata": {
    "collapsed": false
   },
   "outputs": [
    {
     "data": {
      "image/png": "[encoded data removed]",
      "text/latex": [
       "$$0$$"
      ],
      "text/plain": [
       "0"
      ]
     },
     "execution_count": 12,
     "metadata": {},
     "output_type": "execute_result"
    }
   ],
   "source": [
    "phi.subs(y, 1)"
   ]
  },
  {
   "cell_type": "markdown",
   "metadata": {},
   "source": [
    "# General Elliptic"
   ]
  },
  {
   "cell_type": "markdown",
   "metadata": {},
   "source": [
    "Derive the form of a test variable-coefficient elliptic equation with periodic boundary conditions for testing the variable-coefficient multigrid solver.\n",
    "\n",
    "We are solving\n",
    "\n",
    "$$\\alpha \\phi + \\nabla \\cdot (\\beta \\nabla \\phi ) + \\gamma \\cdot \\nabla \\phi = f$$\n",
    "\n",
    "Note: it is important for solvability that the RHS, f, integrate to zero over our domain.  It seems sufficient to ensure that phi integrates to zero to have this condition met."
   ]
  },
  {
   "cell_type": "code",
   "execution_count": 13,
   "metadata": {
    "collapsed": false
   },
   "outputs": [],
   "source": [
    "phi = sin(2*pi*x)*sin(2*pi*y)"
   ]
  },
  {
   "cell_type": "code",
   "execution_count": 14,
   "metadata": {
    "collapsed": false
   },
   "outputs": [
    {
     "data": {
      "image/png": "[encoded data removed]",
      "text/latex": [
       "$$\\sin{\\left (2 \\pi x \\right )} \\sin{\\left (2 \\pi y \\right )}$$"
      ],
      "text/plain": [
       "sin(2⋅π⋅x)⋅sin(2⋅π⋅y)"
      ]
     },
     "execution_count": 14,
     "metadata": {},
     "output_type": "execute_result"
    }
   ],
   "source": [
    "phi"
   ]
  },
  {
   "cell_type": "code",
   "execution_count": 15,
   "metadata": {
    "collapsed": false
   },
   "outputs": [],
   "source": [
    "alpha = 1.0\n",
    "beta = 2.0 + cos(2*pi*x)*cos(2*pi*y)\n",
    "gamma_x = sin(2*pi*x)\n",
    "gamma_y = sin(2*pi*y)\n"
   ]
  },
  {
   "cell_type": "code",
   "execution_count": 16,
   "metadata": {
    "collapsed": false
   },
   "outputs": [
    {
     "data": {
      "image/png": "[encoded data removed]",
      "text/latex": [
       "$$1.0$$"
      ],
      "text/plain": [
       "1.0"
      ]
     },
     "execution_count": 16,
     "metadata": {},
     "output_type": "execute_result"
    }
   ],
   "source": [
    "alpha"
   ]
  },
  {
   "cell_type": "code",
   "execution_count": 17,
   "metadata": {
    "collapsed": false
   },
   "outputs": [
    {
     "data": {
      "image/png": "[encoded data removed]",
      "text/latex": [
       "$$\\cos{\\left (2 \\pi x \\right )} \\cos{\\left (2 \\pi y \\right )} + 2.0$$"
      ],
      "text/plain": [
       "cos(2⋅π⋅x)⋅cos(2⋅π⋅y) + 2.0"
      ]
     },
     "execution_count": 17,
     "metadata": {},
     "output_type": "execute_result"
    }
   ],
   "source": [
    "beta"
   ]
  },
  {
   "cell_type": "code",
   "execution_count": 18,
   "metadata": {
    "collapsed": false
   },
   "outputs": [
    {
     "data": {
      "image/png": "[encoded data removed]",
      "text/latex": [
       "$$\\sin{\\left (2 \\pi x \\right )}$$"
      ],
      "text/plain": [
       "sin(2⋅π⋅x)"
      ]
     },
     "execution_count": 18,
     "metadata": {},
     "output_type": "execute_result"
    }
   ],
   "source": [
    "gamma_x"
   ]
  },
  {
   "cell_type": "code",
   "execution_count": 19,
   "metadata": {
    "collapsed": false
   },
   "outputs": [
    {
     "data": {
      "image/png": "[encoded data removed]",
      "text/latex": [
       "$$\\sin{\\left (2 \\pi y \\right )}$$"
      ],
      "text/plain": [
       "sin(2⋅π⋅y)"
      ]
     },
     "execution_count": 19,
     "metadata": {},
     "output_type": "execute_result"
    }
   ],
   "source": [
    "gamma_y"
   ]
  },
  {
   "cell_type": "code",
   "execution_count": 20,
   "metadata": {
    "collapsed": false
   },
   "outputs": [],
   "source": [
    "phi_x = diff(phi, x)\n",
    "phi_y = diff(phi, y)"
   ]
  },
  {
   "cell_type": "code",
   "execution_count": 21,
   "metadata": {
    "collapsed": false
   },
   "outputs": [],
   "source": [
    "f = alpha*phi + diff(beta*phi_x, x) + diff(beta*phi_y, y) + gamma_x*phi_x + gamma_y*phi_y"
   ]
  },
  {
   "cell_type": "code",
   "execution_count": 22,
   "metadata": {
    "collapsed": false
   },
   "outputs": [
    {
     "data": {
      "image/png": "[encoded data removed]",
      "text/latex": [
       "$$\\left(- 16.0 \\pi^{2} \\cos{\\left (2 \\pi x \\right )} \\cos{\\left (2 \\pi y \\right )} + 2.0 \\pi \\cos{\\left (2 \\pi x \\right )} + 2.0 \\pi \\cos{\\left (2 \\pi y \\right )} - 16.0 \\pi^{2} + 1.0\\right) \\sin{\\left (2 \\pi x \\right )} \\sin{\\left (2 \\pi y \\right )}$$"
      ],
      "text/plain": [
       "⎛        2                                                                    \n",
       "⎝- 16.0⋅π ⋅cos(2⋅π⋅x)⋅cos(2⋅π⋅y) + 2.0⋅π⋅cos(2⋅π⋅x) + 2.0⋅π⋅cos(2⋅π⋅y) - 16.0⋅\n",
       "\n",
       " 2      ⎞                      \n",
       "π  + 1.0⎠⋅sin(2⋅π⋅x)⋅sin(2⋅π⋅y)"
      ]
     },
     "execution_count": 22,
     "metadata": {},
     "output_type": "execute_result"
    }
   ],
   "source": [
    "f = simplify(f)\n",
    "f"
   ]
  },
  {
   "cell_type": "code",
   "execution_count": 23,
   "metadata": {
    "collapsed": false
   },
   "outputs": [
    {
     "name": "stdout",
     "output_type": "stream",
     "text": [
      "(-16.0*pi**2*cos(2*pi*x)*cos(2*pi*y) + 2.0*pi*cos(2*pi*x) + 2.0*pi*cos(2*pi*y) - 16.0*pi**2 + 1.0)*sin(2*pi*x)*sin(2*pi*y)\n"
     ]
    }
   ],
   "source": [
    "print(f)"
   ]
  },
  {
   "cell_type": "code",
   "execution_count": 24,
   "metadata": {
    "collapsed": false
   },
   "outputs": [
    {
     "name": "stdout",
     "output_type": "stream",
     "text": [
      "1.0\n"
     ]
    }
   ],
   "source": [
    "print(alpha)"
   ]
  },
  {
   "cell_type": "code",
   "execution_count": 25,
   "metadata": {
    "collapsed": false
   },
   "outputs": [
    {
     "name": "stdout",
     "output_type": "stream",
     "text": [
      "cos(2*pi*x)*cos(2*pi*y) + 2.0\n"
     ]
    }
   ],
   "source": [
    "print(beta)"
   ]
  },
  {
   "cell_type": "code",
   "execution_count": 26,
   "metadata": {
    "collapsed": false
   },
   "outputs": [
    {
     "name": "stdout",
     "output_type": "stream",
     "text": [
      "sin(2*pi*x)\n"
     ]
    }
   ],
   "source": [
    "print(gamma_x)"
   ]
  },
  {
   "cell_type": "code",
   "execution_count": 27,
   "metadata": {
    "collapsed": false
   },
   "outputs": [
    {
     "name": "stdout",
     "output_type": "stream",
     "text": [
      "sin(2*pi*y)\n"
     ]
    }
   ],
   "source": [
    "print (gamma_y)"
   ]
  },
  {
   "cell_type": "code",
   "execution_count": null,
   "metadata": {
    "collapsed": false
   },
   "outputs": [],
   "source": []
  },
  {
   "cell_type": "markdown",
   "metadata": {},
   "source": [
    "## Inhomogeneous BCs"
   ]
  },
  {
   "cell_type": "code",
   "execution_count": 28,
   "metadata": {
    "collapsed": false
   },
   "outputs": [],
   "source": [
    "phi = cos(Rational(1,2)*pi*x)*cos(Rational(1,2)*pi*y)"
   ]
  },
  {
   "cell_type": "code",
   "execution_count": 29,
   "metadata": {
    "collapsed": false
   },
   "outputs": [
    {
     "data": {
      "image/png": "[encoded data removed]",
      "text/latex": [
       "$$\\cos{\\left (\\frac{\\pi x}{2} \\right )} \\cos{\\left (\\frac{\\pi y}{2} \\right )}$$"
      ],
      "text/plain": [
       "   ⎛π⋅x⎞    ⎛π⋅y⎞\n",
       "cos⎜───⎟⋅cos⎜───⎟\n",
       "   ⎝ 2 ⎠    ⎝ 2 ⎠"
      ]
     },
     "execution_count": 29,
     "metadata": {},
     "output_type": "execute_result"
    }
   ],
   "source": [
    "phi"
   ]
  },
  {
   "cell_type": "code",
   "execution_count": 30,
   "metadata": {
    "collapsed": false
   },
   "outputs": [],
   "source": [
    "alpha = 10\n",
    "gamma_x = 1\n",
    "gamma_y = 1\n",
    "beta = x*y + 1"
   ]
  },
  {
   "cell_type": "code",
   "execution_count": 31,
   "metadata": {
    "collapsed": false
   },
   "outputs": [],
   "source": [
    "phi_x = diff(phi, x)\n",
    "phi_y = diff(phi, y)\n",
    "f = alpha*phi + diff(beta*phi_x, x) + diff(beta*phi_y, y) + gamma_x*phi_x + gamma_y*phi_y"
   ]
  },
  {
   "cell_type": "code",
   "execution_count": 32,
   "metadata": {
    "collapsed": false
   },
   "outputs": [
    {
     "data": {
      "image/png": "[encoded data removed]",
      "text/latex": [
       "$$- \\frac{\\pi x}{2} \\sin{\\left (\\frac{\\pi y}{2} \\right )} \\cos{\\left (\\frac{\\pi x}{2} \\right )} - \\frac{\\pi y}{2} \\sin{\\left (\\frac{\\pi x}{2} \\right )} \\cos{\\left (\\frac{\\pi y}{2} \\right )} - \\frac{\\pi^{2}}{2} \\left(x y + 1\\right) \\cos{\\left (\\frac{\\pi x}{2} \\right )} \\cos{\\left (\\frac{\\pi y}{2} \\right )} - \\frac{\\pi}{2} \\sin{\\left (\\frac{\\pi x}{2} \\right )} \\cos{\\left (\\frac{\\pi y}{2} \\right )} - \\frac{\\pi}{2} \\sin{\\left (\\frac{\\pi y}{2} \\right )} \\cos{\\left (\\frac{\\pi x}{2} \\right )} + 10 \\cos{\\left (\\frac{\\pi x}{2} \\right )} \\cos{\\left (\\frac{\\pi y}{2} \\right )}$$"
      ],
      "text/plain": [
       "         ⎛π⋅y⎞    ⎛π⋅x⎞          ⎛π⋅x⎞    ⎛π⋅y⎞    2              ⎛π⋅x⎞    ⎛π⋅\n",
       "  π⋅x⋅sin⎜───⎟⋅cos⎜───⎟   π⋅y⋅sin⎜───⎟⋅cos⎜───⎟   π ⋅(x⋅y + 1)⋅cos⎜───⎟⋅cos⎜──\n",
       "         ⎝ 2 ⎠    ⎝ 2 ⎠          ⎝ 2 ⎠    ⎝ 2 ⎠                   ⎝ 2 ⎠    ⎝ 2\n",
       "- ───────────────────── - ───────────────────── - ────────────────────────────\n",
       "            2                       2                           2             \n",
       "\n",
       "y⎞        ⎛π⋅x⎞    ⎛π⋅y⎞        ⎛π⋅y⎞    ⎛π⋅x⎞                       \n",
       "─⎟   π⋅sin⎜───⎟⋅cos⎜───⎟   π⋅sin⎜───⎟⋅cos⎜───⎟                       \n",
       " ⎠        ⎝ 2 ⎠    ⎝ 2 ⎠        ⎝ 2 ⎠    ⎝ 2 ⎠         ⎛π⋅x⎞    ⎛π⋅y⎞\n",
       "── - ─────────────────── - ─────────────────── + 10⋅cos⎜───⎟⋅cos⎜───⎟\n",
       "              2                     2                  ⎝ 2 ⎠    ⎝ 2 ⎠"
      ]
     },
     "execution_count": 32,
     "metadata": {},
     "output_type": "execute_result"
    }
   ],
   "source": [
    "f"
   ]
  },
  {
   "cell_type": "code",
   "execution_count": 33,
   "metadata": {
    "collapsed": false
   },
   "outputs": [
    {
     "data": {
      "image/png": "[encoded data removed]",
      "text/latex": [
       "$$- \\frac{x y}{2} \\pi^{2} \\cos{\\left (\\frac{\\pi x}{2} \\right )} \\cos{\\left (\\frac{\\pi y}{2} \\right )} - \\frac{\\pi x}{2} \\sin{\\left (\\frac{\\pi y}{2} \\right )} \\cos{\\left (\\frac{\\pi x}{2} \\right )} - \\frac{\\pi y}{2} \\sin{\\left (\\frac{\\pi x}{2} \\right )} \\cos{\\left (\\frac{\\pi y}{2} \\right )} - \\frac{\\pi}{2} \\sin{\\left (\\pi \\left(\\frac{x}{2} + \\frac{y}{2}\\right) \\right )} - \\frac{\\pi^{2}}{2} \\cos{\\left (\\frac{\\pi x}{2} \\right )} \\cos{\\left (\\frac{\\pi y}{2} \\right )} + 10 \\cos{\\left (\\frac{\\pi x}{2} \\right )} \\cos{\\left (\\frac{\\pi y}{2} \\right )}$$"
      ],
      "text/plain": [
       "   2        ⎛π⋅x⎞    ⎛π⋅y⎞          ⎛π⋅y⎞    ⎛π⋅x⎞          ⎛π⋅x⎞    ⎛π⋅y⎞    \n",
       "  π ⋅x⋅y⋅cos⎜───⎟⋅cos⎜───⎟   π⋅x⋅sin⎜───⎟⋅cos⎜───⎟   π⋅y⋅sin⎜───⎟⋅cos⎜───⎟   π\n",
       "            ⎝ 2 ⎠    ⎝ 2 ⎠          ⎝ 2 ⎠    ⎝ 2 ⎠          ⎝ 2 ⎠    ⎝ 2 ⎠    \n",
       "- ──────────────────────── - ───────────────────── - ───────────────────── - ─\n",
       "             2                         2                       2              \n",
       "\n",
       "    ⎛  ⎛x   y⎞⎞    2    ⎛π⋅x⎞    ⎛π⋅y⎞                       \n",
       "⋅sin⎜π⋅⎜─ + ─⎟⎟   π ⋅cos⎜───⎟⋅cos⎜───⎟                       \n",
       "    ⎝  ⎝2   2⎠⎠         ⎝ 2 ⎠    ⎝ 2 ⎠         ⎛π⋅x⎞    ⎛π⋅y⎞\n",
       "─────────────── - ──────────────────── + 10⋅cos⎜───⎟⋅cos⎜───⎟\n",
       "      2                    2                   ⎝ 2 ⎠    ⎝ 2 ⎠"
      ]
     },
     "execution_count": 33,
     "metadata": {},
     "output_type": "execute_result"
    }
   ],
   "source": [
    "simplify(f)"
   ]
  },
  {
   "cell_type": "markdown",
   "metadata": {},
   "source": [
    "### boundary conditions"
   ]
  },
  {
   "cell_type": "code",
   "execution_count": 34,
   "metadata": {
    "collapsed": false
   },
   "outputs": [
    {
     "data": {
      "image/png": "[encoded data removed]",
      "text/latex": [
       "$$\\cos{\\left (\\frac{\\pi y}{2} \\right )}$$"
      ],
      "text/plain": [
       "   ⎛π⋅y⎞\n",
       "cos⎜───⎟\n",
       "   ⎝ 2 ⎠"
      ]
     },
     "execution_count": 34,
     "metadata": {},
     "output_type": "execute_result"
    }
   ],
   "source": [
    "phi.subs(x,0)"
   ]
  },
  {
   "cell_type": "code",
   "execution_count": 35,
   "metadata": {
    "collapsed": false
   },
   "outputs": [
    {
     "data": {
      "image/png": "[encoded data removed]",
      "text/latex": [
       "$$0$$"
      ],
      "text/plain": [
       "0"
      ]
     },
     "execution_count": 35,
     "metadata": {},
     "output_type": "execute_result"
    }
   ],
   "source": [
    "phi.subs(x,1)"
   ]
  },
  {
   "cell_type": "code",
   "execution_count": 36,
   "metadata": {
    "collapsed": false
   },
   "outputs": [
    {
     "data": {
      "image/png": "[encoded data removed]",
      "text/latex": [
       "$$\\cos{\\left (\\frac{\\pi x}{2} \\right )}$$"
      ],
      "text/plain": [
       "   ⎛π⋅x⎞\n",
       "cos⎜───⎟\n",
       "   ⎝ 2 ⎠"
      ]
     },
     "execution_count": 36,
     "metadata": {},
     "output_type": "execute_result"
    }
   ],
   "source": [
    "phi.subs(y,0)"
   ]
  },
  {
   "cell_type": "code",
   "execution_count": 37,
   "metadata": {
    "collapsed": false
   },
   "outputs": [
    {
     "data": {
      "image/png": "[encoded data removed]",
      "text/latex": [
       "$$0$$"
      ],
      "text/plain": [
       "0"
      ]
     },
     "execution_count": 37,
     "metadata": {},
     "output_type": "execute_result"
    }
   ],
   "source": [
    "phi.subs(y,1)"
   ]
  },
  {
   "cell_type": "code",
   "execution_count": null,
   "metadata": {
    "collapsed": false
   },
   "outputs": [],
   "source": []
  }
 ],
 "metadata": {
  "kernelspec": {
   "display_name": "Python 2",
   "language": "python",
   "name": "python2"
  },
  "language_info": {
   "codemirror_mode": {
    "name": "ipython",
    "version": 2
   },
   "file_extension": ".py",
   "mimetype": "text/x-python",
   "name": "python",
   "nbconvert_exporter": "python",
   "pygments_lexer": "ipython2",
   "version": "2.7.12"
  }
 },
 "nbformat": 4,
 "nbformat_minor": 0
}
